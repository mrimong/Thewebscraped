{
 "cells": [
  {
   "cell_type": "markdown",
   "id": "94f1e3ca",
   "metadata": {},
   "source": [
    "### Best Buy Deal of the Day"
   ]
  },
  {
   "cell_type": "code",
   "execution_count": 9,
   "id": "d913980a",
   "metadata": {},
   "outputs": [],
   "source": [
    "#Importing lirbraries\n",
    "from bs4 import BeautifulSoup\n",
    "import requests\n",
    "import re \n",
    "\n",
    "import time\n",
    "from selenium import webdriver\n",
    "from selenium.webdriver.chrome.service import Service\n",
    "from selenium.webdriver.common.keys import Keys\n",
    "from selenium.webdriver.common.by import By\n",
    "import os"
   ]
  },
  {
   "cell_type": "markdown",
   "id": "61371e12",
   "metadata": {},
   "source": [
    "#### This script goes to bestbuy.com, clicks on Deal of the Day, reads how much time is left for the Deal of the Day and prints the remaining time to screen (console), clicks on the Deal of the Day (the actual product), clicks on its reviews, and saves the resulting HTML to your local hard drive as \"bestbuy_deal_of_the_day.htm\"."
   ]
  },
  {
   "cell_type": "code",
   "execution_count": 14,
   "id": "ef1a9d63",
   "metadata": {},
   "outputs": [],
   "source": [
    "driver=webdriver.Chrome()\n",
    "time.sleep(3)\n",
    "driver.get('https://www.bestbuy.com')\n",
    "\n",
    "#I have noticed that the text of the <a> tag is Deal fo the Day so I am selecting that one\n",
    "bestbuy=driver.find_element(By.XPATH,'//a[text()=\"Deal of the Day\"]') #Deal of the day selected\n",
    "bestbuy.click()\n",
    "\n",
    "\n",
    "#COUNTDOWN CLOCK\n",
    "time.sleep(4)\n",
    "#To select the countdown timer, I noticed that the class of the timer is countdown-clock which seems like \n",
    "# a good class name for selection\n",
    "cnt_clock=driver.find_element(By.CLASS_NAME,\"countdown-clock\").text\n",
    "time.sleep(3)\n",
    "\n",
    "#Click on the <a> tag with the text \"Shop Now\"\n",
    "offer=driver.find_element(By.XPATH,'//a[text()=\"Shop Now\"]')\n",
    "offer.click()\n",
    "time.sleep(4)\n",
    "\n",
    "#Using the class name, I am going to the ratings and review page\n",
    "review=driver.find_element(By.CLASS_NAME,\"ratings-reviews\")\n",
    "review.click()\n",
    "time.sleep(4)\n",
    "\n",
    "\n",
    "#Saving file to the local. Please note that the file is saved to same location that Jupyter Notebook is saved.\n",
    "html_content = driver.page_source\n",
    "file_path = \"bestbuy_deal_of_the_day.html\"\n",
    "with open(file_path, \"w\", encoding=\"utf-8\") as file:\n",
    "    file.write(html_content)\n",
    "\n",
    "#Quitting the browswer\n",
    "time.sleep(4)\n",
    "driver.quit()"
   ]
  },
  {
   "cell_type": "markdown",
   "id": "6d0dbfd9",
   "metadata": {},
   "source": [
    "###### Printing the time to console"
   ]
  },
  {
   "cell_type": "code",
   "execution_count": 50,
   "id": "f16fa56d",
   "metadata": {},
   "outputs": [
    {
     "name": "stdout",
     "output_type": "stream",
     "text": [
      "09 Hours: 10 Minutes: 17 Seconds\n"
     ]
    }
   ],
   "source": [
    "times = re.findall(r'.*([0-9][0-9]).*', cnt_clock)\n",
    "print(times[0],\"Hours:\",times[1],\"Minutes:\",times[2],\"Seconds\")"
   ]
  }
 ],
 "metadata": {
  "kernelspec": {
   "display_name": "Python 3 (ipykernel)",
   "language": "python",
   "name": "python3"
  },
  "language_info": {
   "codemirror_mode": {
    "name": "ipython",
    "version": 3
   },
   "file_extension": ".py",
   "mimetype": "text/x-python",
   "name": "python",
   "nbconvert_exporter": "python",
   "pygments_lexer": "ipython3",
   "version": "3.11.4"
  }
 },
 "nbformat": 4,
 "nbformat_minor": 5
}
