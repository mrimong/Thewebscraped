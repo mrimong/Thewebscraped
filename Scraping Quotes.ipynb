{
 "cells": [
  {
   "cell_type": "markdown",
   "id": "44703630",
   "metadata": {},
   "source": [
    "### Scraping Quotes"
   ]
  },
  {
   "cell_type": "code",
   "execution_count": 133,
   "id": "b5f215a8",
   "metadata": {},
   "outputs": [],
   "source": [
    "from bs4 import BeautifulSoup\n",
    "#Importing beautfiul soup library\n",
    "import requests\n",
    "#importing requests\n",
    "import re \n",
    "#for regular expressions use\n",
    "import time\n",
    "#For adding delay when moving from one url to another"
   ]
  },
  {
   "cell_type": "markdown",
   "id": "05a0d5bd",
   "metadata": {},
   "source": [
    "### going to the website http://quotes.toscrape.com/Links to an external site."
   ]
  },
  {
   "cell_type": "code",
   "execution_count": 134,
   "id": "a3c54cea",
   "metadata": {},
   "outputs": [],
   "source": [
    "\n",
    "url_q1='http://quotes.toscrape.com/'\n",
    "\n",
    "page_q1=requests.get(url_q1)\n",
    "#sending requests to the page"
   ]
  },
  {
   "cell_type": "markdown",
   "id": "76089e31",
   "metadata": {},
   "source": [
    "### Python code to load the page and select the fourth \"Top Ten tag\".  Extract the link's href to screen."
   ]
  },
  {
   "cell_type": "code",
   "execution_count": 3,
   "id": "38abd3b5",
   "metadata": {},
   "outputs": [
    {
     "data": {
      "text/plain": [
       "'/tag/humor/'"
      ]
     },
     "execution_count": 3,
     "metadata": {},
     "output_type": "execute_result"
    }
   ],
   "source": [
    "\n",
    "page_q1.text\n",
    "soup_q1=BeautifulSoup(page_q1.text)\n",
    "#Displaying the top ten tag\n",
    "l=soup_q1.find_all(\"span\", {\"class\": \"tag-item\"})\n",
    "fourthtag=l[3]\n",
    "lnkhref=fourthtag.select_one('a').get('href')\n",
    "lnkhref"
   ]
  },
  {
   "cell_type": "markdown",
   "id": "29584122",
   "metadata": {},
   "source": [
    "### Adding the domain name (\"http://quotes.toscrape.com/\") to the front of it to make it a complete URL.\n"
   ]
  },
  {
   "cell_type": "code",
   "execution_count": 135,
   "id": "330ffbf7",
   "metadata": {},
   "outputs": [
    {
     "data": {
      "text/plain": [
       "'http://quotes.toscrape.com/tag/humor/'"
      ]
     },
     "execution_count": 135,
     "metadata": {},
     "output_type": "execute_result"
    }
   ],
   "source": [
    "\n",
    "fullurl=url_q1+lnkhref[1:]\n",
    "fullurl\n",
    "#adding the relative path to the url "
   ]
  },
  {
   "cell_type": "markdown",
   "id": "e7676332",
   "metadata": {},
   "source": [
    "### Adding a delay (time.sleep) of 10 seconds before executing this second page request.\n"
   ]
  },
  {
   "cell_type": "code",
   "execution_count": 136,
   "id": "60e2a848",
   "metadata": {},
   "outputs": [
    {
     "data": {
      "text/plain": [
       "\"\\n\\n\\n\\nQuotes to Scrape\\n\\n\\n\\n\\n\\n\\n\\n\\nQuotes to Scrape\\n\\n\\n\\n\\nLogin\\n\\n\\n\\nViewing tag: humor\\n\\n\\n\\n“The person, be it gentleman or lady, who has not pleasure in a good novel, must be intolerably stupid.”\\nby Jane Austen\\n(about)\\n\\n\\n            Tags:\\n            \\naliteracy\\nbooks\\nclassic\\nhumor\\n\\n\\n\\n“A day without sunshine is like, you know, night.”\\nby Steve Martin\\n(about)\\n\\n\\n            Tags:\\n            \\nhumor\\nobvious\\nsimile\\n\\n\\n\\n“Anyone who thinks sitting in church can make you a Christian must also think that sitting in a garage can make you a car.”\\nby Garrison Keillor\\n(about)\\n\\n\\n            Tags:\\n            \\nhumor\\nreligion\\n\\n\\n\\n“Beauty is in the eye of the beholder and it may be necessary from time to time to give a stupid or misinformed beholder a black eye.”\\nby Jim Henson\\n(about)\\n\\n\\n            Tags:\\n            \\nhumor\\n\\n\\n\\n“All you need is love. But a little chocolate now and then doesn't hurt.”\\nby Charles M. Schulz\\n(about)\\n\\n\\n            Tags:\\n            \\nchocolate\\nfood\\nhumor\\n\\n\\n\\n“Remember, we're madly in love, so it's all right to kiss me anytime you feel like it.”\\nby Suzanne Collins\\n(about)\\n\\n\\n            Tags:\\n            \\nhumor\\n\\n\\n\\n“Some people never go crazy. What truly horrible lives they must lead.”\\nby Charles Bukowski\\n(about)\\n\\n\\n            Tags:\\n            \\nhumor\\n\\n\\n\\n“The trouble with having an open mind, of course, is that people will insist on coming along and trying to put things in it.”\\nby Terry Pratchett\\n(about)\\n\\n\\n            Tags:\\n            \\nhumor\\nopen-mind\\nthinking\\n\\n\\n\\n“Think left and think right and think low and think high. Oh, the thinks you can think up if only you try!”\\nby Dr. Seuss\\n(about)\\n\\n\\n            Tags:\\n            \\nhumor\\nphilosophy\\n\\n\\n\\n“The reason I talk to myself is because I’m the only one whose answers I accept.”\\nby George Carlin\\n(about)\\n\\n\\n            Tags:\\n            \\nhumor\\ninsanity\\nlies\\nlying\\nself-indulgence\\ntruth\\n\\n\\n\\n\\n\\nNext →\\n\\n\\n\\n\\n\\nTop Ten tags\\n\\nlove\\n\\n\\ninspirational\\n\\n\\nlife\\n\\n\\nhumor\\n\\n\\nbooks\\n\\n\\nreading\\n\\n\\nfriendship\\n\\n\\nfriends\\n\\n\\ntruth\\n\\n\\nsimile\\n\\n\\n\\n\\n\\n\\n\\n                Quotes by: GoodReads.com\\n\\n\\n                Made with ❤ by Zyte\\n\\n\\n\\n\\n\""
      ]
     },
     "execution_count": 136,
     "metadata": {},
     "output_type": "execute_result"
    }
   ],
   "source": [
    "\n",
    "time.sleep(6)\n",
    "page2=requests.get(fullurl)\n",
    "soup2=BeautifulSoup(page2.text,'html.parser')\n",
    "soup2.text\n",
    "#printing all the text from the new url"
   ]
  },
  {
   "cell_type": "markdown",
   "id": "9ce9519f",
   "metadata": {},
   "source": [
    "### modifying  code to select all quotes (including their author)"
   ]
  },
  {
   "cell_type": "code",
   "execution_count": 137,
   "id": "c05add92",
   "metadata": {},
   "outputs": [
    {
     "data": {
      "text/plain": [
       "[<div class=\"quote\" itemscope=\"\" itemtype=\"http://schema.org/CreativeWork\">\n",
       " <span class=\"text\" itemprop=\"text\">“The person, be it gentleman or lady, who has not pleasure in a good novel, must be intolerably stupid.”</span>\n",
       " <span>by <small class=\"author\" itemprop=\"author\">Jane Austen</small>\n",
       " <a href=\"/author/Jane-Austen\">(about)</a>\n",
       " </span>\n",
       " <div class=\"tags\">\n",
       "             Tags:\n",
       "             <meta class=\"keywords\" content=\"aliteracy,books,classic,humor\" itemprop=\"keywords\"/>\n",
       " <a class=\"tag\" href=\"/tag/aliteracy/page/1/\">aliteracy</a>\n",
       " <a class=\"tag\" href=\"/tag/books/page/1/\">books</a>\n",
       " <a class=\"tag\" href=\"/tag/classic/page/1/\">classic</a>\n",
       " <a class=\"tag\" href=\"/tag/humor/page/1/\">humor</a>\n",
       " </div>\n",
       " </div>,\n",
       " <div class=\"quote\" itemscope=\"\" itemtype=\"http://schema.org/CreativeWork\">\n",
       " <span class=\"text\" itemprop=\"text\">“A day without sunshine is like, you know, night.”</span>\n",
       " <span>by <small class=\"author\" itemprop=\"author\">Steve Martin</small>\n",
       " <a href=\"/author/Steve-Martin\">(about)</a>\n",
       " </span>\n",
       " <div class=\"tags\">\n",
       "             Tags:\n",
       "             <meta class=\"keywords\" content=\"humor,obvious,simile\" itemprop=\"keywords\"/>\n",
       " <a class=\"tag\" href=\"/tag/humor/page/1/\">humor</a>\n",
       " <a class=\"tag\" href=\"/tag/obvious/page/1/\">obvious</a>\n",
       " <a class=\"tag\" href=\"/tag/simile/page/1/\">simile</a>\n",
       " </div>\n",
       " </div>,\n",
       " <div class=\"quote\" itemscope=\"\" itemtype=\"http://schema.org/CreativeWork\">\n",
       " <span class=\"text\" itemprop=\"text\">“Anyone who thinks sitting in church can make you a Christian must also think that sitting in a garage can make you a car.”</span>\n",
       " <span>by <small class=\"author\" itemprop=\"author\">Garrison Keillor</small>\n",
       " <a href=\"/author/Garrison-Keillor\">(about)</a>\n",
       " </span>\n",
       " <div class=\"tags\">\n",
       "             Tags:\n",
       "             <meta class=\"keywords\" content=\"humor,religion\" itemprop=\"keywords\"/>\n",
       " <a class=\"tag\" href=\"/tag/humor/page/1/\">humor</a>\n",
       " <a class=\"tag\" href=\"/tag/religion/page/1/\">religion</a>\n",
       " </div>\n",
       " </div>,\n",
       " <div class=\"quote\" itemscope=\"\" itemtype=\"http://schema.org/CreativeWork\">\n",
       " <span class=\"text\" itemprop=\"text\">“Beauty is in the eye of the beholder and it may be necessary from time to time to give a stupid or misinformed beholder a black eye.”</span>\n",
       " <span>by <small class=\"author\" itemprop=\"author\">Jim Henson</small>\n",
       " <a href=\"/author/Jim-Henson\">(about)</a>\n",
       " </span>\n",
       " <div class=\"tags\">\n",
       "             Tags:\n",
       "             <meta class=\"keywords\" content=\"humor\" itemprop=\"keywords\"/>\n",
       " <a class=\"tag\" href=\"/tag/humor/page/1/\">humor</a>\n",
       " </div>\n",
       " </div>,\n",
       " <div class=\"quote\" itemscope=\"\" itemtype=\"http://schema.org/CreativeWork\">\n",
       " <span class=\"text\" itemprop=\"text\">“All you need is love. But a little chocolate now and then doesn't hurt.”</span>\n",
       " <span>by <small class=\"author\" itemprop=\"author\">Charles M. Schulz</small>\n",
       " <a href=\"/author/Charles-M-Schulz\">(about)</a>\n",
       " </span>\n",
       " <div class=\"tags\">\n",
       "             Tags:\n",
       "             <meta class=\"keywords\" content=\"chocolate,food,humor\" itemprop=\"keywords\"/>\n",
       " <a class=\"tag\" href=\"/tag/chocolate/page/1/\">chocolate</a>\n",
       " <a class=\"tag\" href=\"/tag/food/page/1/\">food</a>\n",
       " <a class=\"tag\" href=\"/tag/humor/page/1/\">humor</a>\n",
       " </div>\n",
       " </div>,\n",
       " <div class=\"quote\" itemscope=\"\" itemtype=\"http://schema.org/CreativeWork\">\n",
       " <span class=\"text\" itemprop=\"text\">“Remember, we're madly in love, so it's all right to kiss me anytime you feel like it.”</span>\n",
       " <span>by <small class=\"author\" itemprop=\"author\">Suzanne Collins</small>\n",
       " <a href=\"/author/Suzanne-Collins\">(about)</a>\n",
       " </span>\n",
       " <div class=\"tags\">\n",
       "             Tags:\n",
       "             <meta class=\"keywords\" content=\"humor\" itemprop=\"keywords\"/>\n",
       " <a class=\"tag\" href=\"/tag/humor/page/1/\">humor</a>\n",
       " </div>\n",
       " </div>,\n",
       " <div class=\"quote\" itemscope=\"\" itemtype=\"http://schema.org/CreativeWork\">\n",
       " <span class=\"text\" itemprop=\"text\">“Some people never go crazy. What truly horrible lives they must lead.”</span>\n",
       " <span>by <small class=\"author\" itemprop=\"author\">Charles Bukowski</small>\n",
       " <a href=\"/author/Charles-Bukowski\">(about)</a>\n",
       " </span>\n",
       " <div class=\"tags\">\n",
       "             Tags:\n",
       "             <meta class=\"keywords\" content=\"humor\" itemprop=\"keywords\"/>\n",
       " <a class=\"tag\" href=\"/tag/humor/page/1/\">humor</a>\n",
       " </div>\n",
       " </div>,\n",
       " <div class=\"quote\" itemscope=\"\" itemtype=\"http://schema.org/CreativeWork\">\n",
       " <span class=\"text\" itemprop=\"text\">“The trouble with having an open mind, of course, is that people will insist on coming along and trying to put things in it.”</span>\n",
       " <span>by <small class=\"author\" itemprop=\"author\">Terry Pratchett</small>\n",
       " <a href=\"/author/Terry-Pratchett\">(about)</a>\n",
       " </span>\n",
       " <div class=\"tags\">\n",
       "             Tags:\n",
       "             <meta class=\"keywords\" content=\"humor,open-mind,thinking\" itemprop=\"keywords\"/>\n",
       " <a class=\"tag\" href=\"/tag/humor/page/1/\">humor</a>\n",
       " <a class=\"tag\" href=\"/tag/open-mind/page/1/\">open-mind</a>\n",
       " <a class=\"tag\" href=\"/tag/thinking/page/1/\">thinking</a>\n",
       " </div>\n",
       " </div>,\n",
       " <div class=\"quote\" itemscope=\"\" itemtype=\"http://schema.org/CreativeWork\">\n",
       " <span class=\"text\" itemprop=\"text\">“Think left and think right and think low and think high. Oh, the thinks you can think up if only you try!”</span>\n",
       " <span>by <small class=\"author\" itemprop=\"author\">Dr. Seuss</small>\n",
       " <a href=\"/author/Dr-Seuss\">(about)</a>\n",
       " </span>\n",
       " <div class=\"tags\">\n",
       "             Tags:\n",
       "             <meta class=\"keywords\" content=\"humor,philosophy\" itemprop=\"keywords\"/>\n",
       " <a class=\"tag\" href=\"/tag/humor/page/1/\">humor</a>\n",
       " <a class=\"tag\" href=\"/tag/philosophy/page/1/\">philosophy</a>\n",
       " </div>\n",
       " </div>,\n",
       " <div class=\"quote\" itemscope=\"\" itemtype=\"http://schema.org/CreativeWork\">\n",
       " <span class=\"text\" itemprop=\"text\">“The reason I talk to myself is because I’m the only one whose answers I accept.”</span>\n",
       " <span>by <small class=\"author\" itemprop=\"author\">George Carlin</small>\n",
       " <a href=\"/author/George-Carlin\">(about)</a>\n",
       " </span>\n",
       " <div class=\"tags\">\n",
       "             Tags:\n",
       "             <meta class=\"keywords\" content=\"humor,insanity,lies,lying,self-indulgence,truth\" itemprop=\"keywords\"/>\n",
       " <a class=\"tag\" href=\"/tag/humor/page/1/\">humor</a>\n",
       " <a class=\"tag\" href=\"/tag/insanity/page/1/\">insanity</a>\n",
       " <a class=\"tag\" href=\"/tag/lies/page/1/\">lies</a>\n",
       " <a class=\"tag\" href=\"/tag/lying/page/1/\">lying</a>\n",
       " <a class=\"tag\" href=\"/tag/self-indulgence/page/1/\">self-indulgence</a>\n",
       " <a class=\"tag\" href=\"/tag/truth/page/1/\">truth</a>\n",
       " </div>\n",
       " </div>]"
      ]
     },
     "execution_count": 137,
     "metadata": {},
     "output_type": "execute_result"
    }
   ],
   "source": [
    "#I will use the div. class=\"quote\"\n",
    "l2=soup2.select(\"div.quote\")\n",
    "l2\n",
    "#printing only the quotes from the authors"
   ]
  },
  {
   "cell_type": "markdown",
   "id": "56bb3128",
   "metadata": {},
   "source": [
    "### using a loop and text manipulation (RegEx preferred if possible) to print to screen all quotes\n"
   ]
  },
  {
   "cell_type": "code",
   "execution_count": 144,
   "id": "a7d5f5c3",
   "metadata": {},
   "outputs": [
    {
     "name": "stdout",
     "output_type": "stream",
     "text": [
      "<div class=\"quote\" itemscope=\"\" itemtype=\"http://schema.org/CreativeWork\">\n",
      "<span class=\"text\" itemprop=\"text\">“The person, be it gentleman or lady, who has not pleasure in a good novel, must be intolerably stupid.”</span>\n",
      "<span>by <small class=\"author\" itemprop=\"author\">Jane Austen</small>\n",
      "<a href=\"/author/Jane-Austen\">(about)</a>\n",
      "</span>\n",
      "<div class=\"tags\">\n",
      "            Tags:\n",
      "            <meta class=\"keywords\" content=\"aliteracy,books,classic,humor\" itemprop=\"keywords\"/>\n",
      "<a class=\"tag\" href=\"/tag/aliteracy/page/1/\">aliteracy</a>\n",
      "<a class=\"tag\" href=\"/tag/books/page/1/\">books</a>\n",
      "<a class=\"tag\" href=\"/tag/classic/page/1/\">classic</a>\n",
      "<a class=\"tag\" href=\"/tag/humor/page/1/\">humor</a>\n",
      "</div>\n",
      "</div>\n",
      "\n",
      "\n",
      "\n",
      "<div class=\"quote\" itemscope=\"\" itemtype=\"http://schema.org/CreativeWork\">\n",
      "<span class=\"text\" itemprop=\"text\">“A day without sunshine is like, you know, night.”</span>\n",
      "<span>by <small class=\"author\" itemprop=\"author\">Steve Martin</small>\n",
      "<a href=\"/author/Steve-Martin\">(about)</a>\n",
      "</span>\n",
      "<div class=\"tags\">\n",
      "            Tags:\n",
      "            <meta class=\"keywords\" content=\"humor,obvious,simile\" itemprop=\"keywords\"/>\n",
      "<a class=\"tag\" href=\"/tag/humor/page/1/\">humor</a>\n",
      "<a class=\"tag\" href=\"/tag/obvious/page/1/\">obvious</a>\n",
      "<a class=\"tag\" href=\"/tag/simile/page/1/\">simile</a>\n",
      "</div>\n",
      "</div>\n",
      "\n",
      "\n",
      "\n",
      "<div class=\"quote\" itemscope=\"\" itemtype=\"http://schema.org/CreativeWork\">\n",
      "<span class=\"text\" itemprop=\"text\">“Anyone who thinks sitting in church can make you a Christian must also think that sitting in a garage can make you a car.”</span>\n",
      "<span>by <small class=\"author\" itemprop=\"author\">Garrison Keillor</small>\n",
      "<a href=\"/author/Garrison-Keillor\">(about)</a>\n",
      "</span>\n",
      "<div class=\"tags\">\n",
      "            Tags:\n",
      "            <meta class=\"keywords\" content=\"humor,religion\" itemprop=\"keywords\"/>\n",
      "<a class=\"tag\" href=\"/tag/humor/page/1/\">humor</a>\n",
      "<a class=\"tag\" href=\"/tag/religion/page/1/\">religion</a>\n",
      "</div>\n",
      "</div>\n",
      "\n",
      "\n",
      "\n",
      "<div class=\"quote\" itemscope=\"\" itemtype=\"http://schema.org/CreativeWork\">\n",
      "<span class=\"text\" itemprop=\"text\">“Beauty is in the eye of the beholder and it may be necessary from time to time to give a stupid or misinformed beholder a black eye.”</span>\n",
      "<span>by <small class=\"author\" itemprop=\"author\">Jim Henson</small>\n",
      "<a href=\"/author/Jim-Henson\">(about)</a>\n",
      "</span>\n",
      "<div class=\"tags\">\n",
      "            Tags:\n",
      "            <meta class=\"keywords\" content=\"humor\" itemprop=\"keywords\"/>\n",
      "<a class=\"tag\" href=\"/tag/humor/page/1/\">humor</a>\n",
      "</div>\n",
      "</div>\n",
      "\n",
      "\n",
      "\n",
      "<div class=\"quote\" itemscope=\"\" itemtype=\"http://schema.org/CreativeWork\">\n",
      "<span class=\"text\" itemprop=\"text\">“All you need is love. But a little chocolate now and then doesn't hurt.”</span>\n",
      "<span>by <small class=\"author\" itemprop=\"author\">Charles M. Schulz</small>\n",
      "<a href=\"/author/Charles-M-Schulz\">(about)</a>\n",
      "</span>\n",
      "<div class=\"tags\">\n",
      "            Tags:\n",
      "            <meta class=\"keywords\" content=\"chocolate,food,humor\" itemprop=\"keywords\"/>\n",
      "<a class=\"tag\" href=\"/tag/chocolate/page/1/\">chocolate</a>\n",
      "<a class=\"tag\" href=\"/tag/food/page/1/\">food</a>\n",
      "<a class=\"tag\" href=\"/tag/humor/page/1/\">humor</a>\n",
      "</div>\n",
      "</div>\n",
      "\n",
      "\n",
      "\n",
      "<div class=\"quote\" itemscope=\"\" itemtype=\"http://schema.org/CreativeWork\">\n",
      "<span class=\"text\" itemprop=\"text\">“Remember, we're madly in love, so it's all right to kiss me anytime you feel like it.”</span>\n",
      "<span>by <small class=\"author\" itemprop=\"author\">Suzanne Collins</small>\n",
      "<a href=\"/author/Suzanne-Collins\">(about)</a>\n",
      "</span>\n",
      "<div class=\"tags\">\n",
      "            Tags:\n",
      "            <meta class=\"keywords\" content=\"humor\" itemprop=\"keywords\"/>\n",
      "<a class=\"tag\" href=\"/tag/humor/page/1/\">humor</a>\n",
      "</div>\n",
      "</div>\n",
      "\n",
      "\n",
      "\n",
      "<div class=\"quote\" itemscope=\"\" itemtype=\"http://schema.org/CreativeWork\">\n",
      "<span class=\"text\" itemprop=\"text\">“Some people never go crazy. What truly horrible lives they must lead.”</span>\n",
      "<span>by <small class=\"author\" itemprop=\"author\">Charles Bukowski</small>\n",
      "<a href=\"/author/Charles-Bukowski\">(about)</a>\n",
      "</span>\n",
      "<div class=\"tags\">\n",
      "            Tags:\n",
      "            <meta class=\"keywords\" content=\"humor\" itemprop=\"keywords\"/>\n",
      "<a class=\"tag\" href=\"/tag/humor/page/1/\">humor</a>\n",
      "</div>\n",
      "</div>\n",
      "\n",
      "\n",
      "\n",
      "<div class=\"quote\" itemscope=\"\" itemtype=\"http://schema.org/CreativeWork\">\n",
      "<span class=\"text\" itemprop=\"text\">“The trouble with having an open mind, of course, is that people will insist on coming along and trying to put things in it.”</span>\n",
      "<span>by <small class=\"author\" itemprop=\"author\">Terry Pratchett</small>\n",
      "<a href=\"/author/Terry-Pratchett\">(about)</a>\n",
      "</span>\n",
      "<div class=\"tags\">\n",
      "            Tags:\n",
      "            <meta class=\"keywords\" content=\"humor,open-mind,thinking\" itemprop=\"keywords\"/>\n",
      "<a class=\"tag\" href=\"/tag/humor/page/1/\">humor</a>\n",
      "<a class=\"tag\" href=\"/tag/open-mind/page/1/\">open-mind</a>\n",
      "<a class=\"tag\" href=\"/tag/thinking/page/1/\">thinking</a>\n",
      "</div>\n",
      "</div>\n",
      "\n",
      "\n",
      "\n",
      "<div class=\"quote\" itemscope=\"\" itemtype=\"http://schema.org/CreativeWork\">\n",
      "<span class=\"text\" itemprop=\"text\">“Think left and think right and think low and think high. Oh, the thinks you can think up if only you try!”</span>\n",
      "<span>by <small class=\"author\" itemprop=\"author\">Dr. Seuss</small>\n",
      "<a href=\"/author/Dr-Seuss\">(about)</a>\n",
      "</span>\n",
      "<div class=\"tags\">\n",
      "            Tags:\n",
      "            <meta class=\"keywords\" content=\"humor,philosophy\" itemprop=\"keywords\"/>\n",
      "<a class=\"tag\" href=\"/tag/humor/page/1/\">humor</a>\n",
      "<a class=\"tag\" href=\"/tag/philosophy/page/1/\">philosophy</a>\n",
      "</div>\n",
      "</div>\n",
      "\n",
      "\n",
      "\n",
      "<div class=\"quote\" itemscope=\"\" itemtype=\"http://schema.org/CreativeWork\">\n",
      "<span class=\"text\" itemprop=\"text\">“The reason I talk to myself is because I’m the only one whose answers I accept.”</span>\n",
      "<span>by <small class=\"author\" itemprop=\"author\">George Carlin</small>\n",
      "<a href=\"/author/George-Carlin\">(about)</a>\n",
      "</span>\n",
      "<div class=\"tags\">\n",
      "            Tags:\n",
      "            <meta class=\"keywords\" content=\"humor,insanity,lies,lying,self-indulgence,truth\" itemprop=\"keywords\"/>\n",
      "<a class=\"tag\" href=\"/tag/humor/page/1/\">humor</a>\n",
      "<a class=\"tag\" href=\"/tag/insanity/page/1/\">insanity</a>\n",
      "<a class=\"tag\" href=\"/tag/lies/page/1/\">lies</a>\n",
      "<a class=\"tag\" href=\"/tag/lying/page/1/\">lying</a>\n",
      "<a class=\"tag\" href=\"/tag/self-indulgence/page/1/\">self-indulgence</a>\n",
      "<a class=\"tag\" href=\"/tag/truth/page/1/\">truth</a>\n",
      "</div>\n",
      "</div>\n",
      "\n",
      "\n",
      "\n"
     ]
    },
    {
     "data": {
      "text/plain": [
       "<div class=\"quote\" itemscope=\"\" itemtype=\"http://schema.org/CreativeWork\">\n",
       "<span class=\"text\" itemprop=\"text\">“A day without sunshine is like, you know, night.”</span>\n",
       "<span>by <small class=\"author\" itemprop=\"author\">Steve Martin</small>\n",
       "<a href=\"/author/Steve-Martin\">(about)</a>\n",
       "</span>\n",
       "<div class=\"tags\">\n",
       "            Tags:\n",
       "            <meta class=\"keywords\" content=\"humor,obvious,simile\" itemprop=\"keywords\"/>\n",
       "<a class=\"tag\" href=\"/tag/humor/page/1/\">humor</a>\n",
       "<a class=\"tag\" href=\"/tag/obvious/page/1/\">obvious</a>\n",
       "<a class=\"tag\" href=\"/tag/simile/page/1/\">simile</a>\n",
       "</div>\n",
       "</div>"
      ]
     },
     "execution_count": 144,
     "metadata": {},
     "output_type": "execute_result"
    }
   ],
   "source": [
    "\n",
    "#Jane Austen: “The person, be it gentleman or lady, who has not pleasure in a good novel\n",
    "#, must be intolerably stupid.”\n",
    "for i in l2:\n",
    "    print(i)\n",
    "    print(\"\\n\\n\")\n",
    "    \n",
    "l2[1]"
   ]
  },
  {
   "cell_type": "code",
   "execution_count": 145,
   "id": "eea3fce3",
   "metadata": {},
   "outputs": [
    {
     "name": "stdout",
     "output_type": "stream",
     "text": [
      "ANSWER TO Q.8\n",
      "Jane Austen : “The person, be it gentleman or lady, who has not pleasure in a good novel, must be intolerably stupid.” \n",
      "----------------\n",
      "Steve Martin : “A day without sunshine is like, you know, night.” \n",
      "----------------\n",
      "Garrison Keillor : “Anyone who thinks sitting in church can make you a Christian must also think that sitting in a garage can make you a car.” \n",
      "----------------\n",
      "Jim Henson : “Beauty is in the eye of the beholder and it may be necessary from time to time to give a stupid or misinformed beholder a black eye.” \n",
      "----------------\n",
      "Charles M. Schulz : “All you need is love. But a little chocolate now and then doesn't hurt.” \n",
      "----------------\n",
      "Suzanne Collins : “Remember, we're madly in love, so it's all right to kiss me anytime you feel like it.” \n",
      "----------------\n",
      "Charles Bukowski : “Some people never go crazy. What truly horrible lives they must lead.” \n",
      "----------------\n",
      "Terry Pratchett : “The trouble with having an open mind, of course, is that people will insist on coming along and trying to put things in it.” \n",
      "----------------\n",
      "Dr. Seuss : “Think left and think right and think low and think high. Oh, the thinks you can think up if only you try!” \n",
      "----------------\n",
      "George Carlin : “The reason I talk to myself is because I’m the only one whose answers I accept.” \n",
      "----------------\n"
     ]
    }
   ],
   "source": [
    "stringquote=str(l2)\n",
    "quote=re.findall(r'<span\\sclass.*>(.*?)<\\/span>',stringquote)\n",
    "author=re.findall(r'<small\\sclass.*>(.*?)<\\/small>',stringquote)\n",
    "print(\"ANSWER TO Q.8\")\n",
    "for i in range(len(quote)):\n",
    "    print(author[i],\":\",quote[i],\"\\n----------------\")"
   ]
  },
  {
   "cell_type": "markdown",
   "id": "e3b77823",
   "metadata": {},
   "source": [
    "### selecting Next"
   ]
  },
  {
   "cell_type": "code",
   "execution_count": 147,
   "id": "98dedc36",
   "metadata": {},
   "outputs": [
    {
     "name": "stdout",
     "output_type": "stream",
     "text": [
      "['Next ']\n"
     ]
    }
   ],
   "source": [
    "\n",
    "l9=soup2.select(\"ul.pager\")\n",
    "#Finding the next keyword\n",
    "l9text=re.findall(r'<.*>(.*?)<span.*>',str(l9))\n",
    "print(l9text)"
   ]
  },
  {
   "cell_type": "code",
   "execution_count": 148,
   "id": "d9c99b6b",
   "metadata": {},
   "outputs": [
    {
     "data": {
      "text/plain": [
       "[<ul class=\"pager\">\n",
       " <li class=\"next\">\n",
       " <a href=\"/tag/humor/page/2/\">Next <span aria-hidden=\"true\">→</span></a>\n",
       " </li>\n",
       " </ul>]"
      ]
     },
     "execution_count": 148,
     "metadata": {},
     "output_type": "execute_result"
    }
   ],
   "source": [
    "l9"
   ]
  },
  {
   "cell_type": "code",
   "execution_count": 150,
   "id": "5dc5b22c",
   "metadata": {},
   "outputs": [],
   "source": [
    "#Finding the arrow for the next keyword\n",
    "l9text.append(soup2.find(\"span\", {\"aria-hidden\": \"true\"}).string)\n",
    "#l9text.append(re.findall(r'<span.*>(.*?)<\\/span.*>',str(l9)))\n",
    "#l9text"
   ]
  },
  {
   "cell_type": "code",
   "execution_count": 152,
   "id": "278ee4a6",
   "metadata": {},
   "outputs": [
    {
     "name": "stdout",
     "output_type": "stream",
     "text": [
      "Next →\n"
     ]
    }
   ],
   "source": [
    "print(l9text[0]+l9text[1])\n",
    "#Displaying next with the arrow"
   ]
  },
  {
   "cell_type": "markdown",
   "id": "c1cee6fb",
   "metadata": {},
   "source": [
    "### modifying code to select \"Next →\", extract it's linked URL, and follow the full URL.  "
   ]
  },
  {
   "cell_type": "code",
   "execution_count": null,
   "id": "89e95dd5",
   "metadata": {},
   "outputs": [],
   "source": [
    "\n",
    "#Add a delay (time.sleep) of 10 seconds before executing this third page request.\n",
    "lnkhref2=soup2.select(\"ul.pager\")[0].select_one('a').get('href')\n",
    "time.sleep(10)\n",
    "newurl=url_q1+lnkhref2[1:]\n",
    "newurl"
   ]
  },
  {
   "cell_type": "markdown",
   "id": "06adff61",
   "metadata": {},
   "source": [
    "### to print all quotes of the resulting page"
   ]
  },
  {
   "cell_type": "code",
   "execution_count": 154,
   "id": "54345d8b",
   "metadata": {},
   "outputs": [
    {
     "name": "stdout",
     "output_type": "stream",
     "text": [
      "<div class=\"quote\" itemscope=\"\" itemtype=\"http://schema.org/CreativeWork\">\n",
      "<span class=\"text\" itemprop=\"text\">“I am free of all prejudice. I hate everyone equally. ”</span>\n",
      "<span>by <small class=\"author\" itemprop=\"author\">W.C. Fields</small>\n",
      "<a href=\"/author/W-C-Fields\">(about)</a>\n",
      "</span>\n",
      "<div class=\"tags\">\n",
      "            Tags:\n",
      "            <meta class=\"keywords\" content=\"humor,sinister\" itemprop=\"keywords\"/>\n",
      "<a class=\"tag\" href=\"/tag/humor/page/1/\">humor</a>\n",
      "<a class=\"tag\" href=\"/tag/sinister/page/1/\">sinister</a>\n",
      "</div>\n",
      "</div>\n",
      "\n",
      "\n",
      "\n",
      "<div class=\"quote\" itemscope=\"\" itemtype=\"http://schema.org/CreativeWork\">\n",
      "<span class=\"text\" itemprop=\"text\">“A lady's imagination is very rapid; it jumps from admiration to love, from love to matrimony in a moment.”</span>\n",
      "<span>by <small class=\"author\" itemprop=\"author\">Jane Austen</small>\n",
      "<a href=\"/author/Jane-Austen\">(about)</a>\n",
      "</span>\n",
      "<div class=\"tags\">\n",
      "            Tags:\n",
      "            <meta class=\"keywords\" content=\"humor,love,romantic,women\" itemprop=\"keywords\"/>\n",
      "<a class=\"tag\" href=\"/tag/humor/page/1/\">humor</a>\n",
      "<a class=\"tag\" href=\"/tag/love/page/1/\">love</a>\n",
      "<a class=\"tag\" href=\"/tag/romantic/page/1/\">romantic</a>\n",
      "<a class=\"tag\" href=\"/tag/women/page/1/\">women</a>\n",
      "</div>\n",
      "</div>\n",
      "\n",
      "\n",
      "\n"
     ]
    },
    {
     "data": {
      "text/plain": [
       "<div class=\"quote\" itemscope=\"\" itemtype=\"http://schema.org/CreativeWork\">\n",
       "<span class=\"text\" itemprop=\"text\">“A lady's imagination is very rapid; it jumps from admiration to love, from love to matrimony in a moment.”</span>\n",
       "<span>by <small class=\"author\" itemprop=\"author\">Jane Austen</small>\n",
       "<a href=\"/author/Jane-Austen\">(about)</a>\n",
       "</span>\n",
       "<div class=\"tags\">\n",
       "            Tags:\n",
       "            <meta class=\"keywords\" content=\"humor,love,romantic,women\" itemprop=\"keywords\"/>\n",
       "<a class=\"tag\" href=\"/tag/humor/page/1/\">humor</a>\n",
       "<a class=\"tag\" href=\"/tag/love/page/1/\">love</a>\n",
       "<a class=\"tag\" href=\"/tag/romantic/page/1/\">romantic</a>\n",
       "<a class=\"tag\" href=\"/tag/women/page/1/\">women</a>\n",
       "</div>\n",
       "</div>"
      ]
     },
     "execution_count": 154,
     "metadata": {},
     "output_type": "execute_result"
    }
   ],
   "source": [
    "page10=requests.get(newurl)\n",
    "soup10=BeautifulSoup(page10.text,'html.parser')\n",
    "\n",
    "l10=soup10.select(\"div.quote\")\n",
    "l10\n",
    "for i in l10:\n",
    "    print(i)\n",
    "    print(\"\\n\\n\")\n",
    "    \n",
    "l10[1]"
   ]
  },
  {
   "cell_type": "code",
   "execution_count": 155,
   "id": "45b52a7d",
   "metadata": {},
   "outputs": [
    {
     "name": "stdout",
     "output_type": "stream",
     "text": [
      "ANSWER TO Q.11\n",
      "\n",
      "W.C. Fields : “I am free of all prejudice. I hate everyone equally. ” \n",
      "----------------\n",
      "Jane Austen : “A lady's imagination is very rapid; it jumps from admiration to love, from love to matrimony in a moment.” \n",
      "----------------\n"
     ]
    }
   ],
   "source": [
    "stringquote10=str(l10)\n",
    "quote10=re.findall(r'<span\\sclass.*>(.*?)<\\/span>',stringquote10)\n",
    "author10=re.findall(r'<small\\sclass.*>(.*?)<\\/small>',stringquote10)\n",
    "print(\"ANSWER TO Q.11\\n\")\n",
    "for i in range(len(quote10)):\n",
    "    print(author10[i],\":\",quote10[i],\"\\n----------------\")\n",
    "    #Displaying the quotes in the new url"
   ]
  }
 ],
 "metadata": {
  "kernelspec": {
   "display_name": "Python 3 (ipykernel)",
   "language": "python",
   "name": "python3"
  },
  "language_info": {
   "codemirror_mode": {
    "name": "ipython",
    "version": 3
   },
   "file_extension": ".py",
   "mimetype": "text/x-python",
   "name": "python",
   "nbconvert_exporter": "python",
   "pygments_lexer": "ipython3",
   "version": "3.11.4"
  }
 },
 "nbformat": 4,
 "nbformat_minor": 5
}
