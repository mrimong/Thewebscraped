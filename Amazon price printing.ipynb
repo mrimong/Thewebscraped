{
 "cells": [
  {
   "cell_type": "markdown",
   "id": "9de681b6",
   "metadata": {},
   "source": [
    "# Web scraping Amazon page: https://www.amazon.com/dp/B07CT6DYFG  and printing its title and price to screen."
   ]
  },
  {
   "cell_type": "code",
   "execution_count": 114,
   "id": "88547c55",
   "metadata": {},
   "outputs": [],
   "source": [
    "#Importing beautifulsoup library for web scraping\n",
    "from bs4 import BeautifulSoup\n",
    "#Importing requests to send HTTP requests using Python\n",
    "import requests\n",
    "#importing re for regex operations\n",
    "import re "
   ]
  },
  {
   "cell_type": "code",
   "execution_count": 17,
   "id": "e72b1259",
   "metadata": {},
   "outputs": [],
   "source": [
    "#Setting the url\n",
    "url_q2='https://www.amazon.com/dp/B07CT6DYFG'\n",
    "page_q2=requests.get(url_q2)\n",
    "page_q2.text\n",
    "soup_q2=BeautifulSoup(page_q2.text)\n",
    "#Finding the required class and tag containing the title \n",
    "l=soup_q2.find_all(\"h1\", {\"class\": 'a-size-large a-spacing-none',\"id\":'title'})\n",
    "for i in l:\n",
    "    title=i.text"
   ]
  },
  {
   "cell_type": "code",
   "execution_count": 18,
   "id": "0a256491",
   "metadata": {},
   "outputs": [
    {
     "name": "stdout",
     "output_type": "stream",
     "text": [
      "Title of the product is as follows:\n",
      " Katamco The Original Toilet Timer (Classic), As Seen on Shark Tank. Funny Gift for Men, Husband, Dad, Son, Birthday, Christmas, Stocking Stuffer.\n"
     ]
    }
   ],
   "source": [
    "print(\"Title of the product is as follows:\\n\",title.strip())"
   ]
  },
  {
   "cell_type": "code",
   "execution_count": 19,
   "id": "a5823705",
   "metadata": {},
   "outputs": [
    {
     "name": "stdout",
     "output_type": "stream",
     "text": [
      "1\n"
     ]
    }
   ],
   "source": [
    "soup_q2=BeautifulSoup(page_q2.text)\n",
    "#Finding the required class and tag containing the price \n",
    "m=soup_q2.find('span',class_=\"a-offscreen\")\n",
    "print(len(m))"
   ]
  },
  {
   "cell_type": "code",
   "execution_count": 20,
   "id": "47968365",
   "metadata": {},
   "outputs": [
    {
     "name": "stdout",
     "output_type": "stream",
     "text": [
      "Price is $14.99\n"
     ]
    }
   ],
   "source": [
    "for i in m:\n",
    "    price=i.text\n",
    "print(\"Price is\",price)"
   ]
  }
 ],
 "metadata": {
  "kernelspec": {
   "display_name": "Python 3 (ipykernel)",
   "language": "python",
   "name": "python3"
  },
  "language_info": {
   "codemirror_mode": {
    "name": "ipython",
    "version": 3
   },
   "file_extension": ".py",
   "mimetype": "text/x-python",
   "name": "python",
   "nbconvert_exporter": "python",
   "pygments_lexer": "ipython3",
   "version": "3.11.4"
  }
 },
 "nbformat": 4,
 "nbformat_minor": 5
}
