{
 "cells": [
  {
   "cell_type": "markdown",
   "id": "0c830797",
   "metadata": {},
   "source": [
    "# Web scraper that loads the page  https://www.usnews.com/  and prints to screen the title of the current #1 top story (i.e., the title of the first title in \"Top Stories\")"
   ]
  },
  {
   "cell_type": "code",
   "execution_count": 114,
   "id": "81801150",
   "metadata": {},
   "outputs": [],
   "source": [
    "#Importing beautifulsoup library for web scraping\n",
    "from bs4 import BeautifulSoup\n",
    "#Importing requests to send HTTP requests using Python\n",
    "import requests\n",
    "#importing re for regex operations\n",
    "import re "
   ]
  },
  {
   "cell_type": "code",
   "execution_count": 21,
   "id": "c24eaa09",
   "metadata": {},
   "outputs": [
    {
     "name": "stdout",
     "output_type": "stream",
     "text": [
      "<h3 class=\"Heading-sc-1w5xk2o-0 ContentBox__StoryHeading-sc-1egb8dt-3 MRvpF fqJuKa story-headline\"><a href=\"https://www.usnews.com/news/best-states/south-carolina/articles/2024-01-20/nikki-haley-questions-trumps-mental-fitness-after-he-appears-to-confuse-her-for-nancy-pelosi\">Haley Questions Trump's Mental Fitness After Gaffe</a></h3> \n",
      "\n"
     ]
    }
   ],
   "source": [
    "url3='https://www.usnews.com/'\n",
    "#selecting the url\n",
    "q3=requests.get(url3, headers={'User-Agent': 'Mozilla/5.0'})\n",
    "q3.text\n",
    "s=BeautifulSoup(q3.text)\n",
    "#Finding the required class and tag containing the top story \n",
    "l=s.find(\"div\",{\"class\":'Box-w0dun1-0 ContentBox__Container-sc-1egb8dt-0 iZCosX lmOexQ ArmRestTopStories__CollapseBorderContentBox-s0vo7p-2 fTDCpH ArmRestTopStories__CollapseBorderContentBox-s0vo7p-2 fTDCpH'}).find(\"h3\",{\"class\":'Heading-sc-1w5xk2o-0 ContentBox__StoryHeading-sc-1egb8dt-3 MRvpF fqJuKa story-headline'})\n",
    "print(l,\"\\n\")\n"
   ]
  },
  {
   "cell_type": "code",
   "execution_count": 23,
   "id": "2b5621b8",
   "metadata": {},
   "outputs": [
    {
     "name": "stdout",
     "output_type": "stream",
     "text": [
      "Haley Questions Trump's Mental Fitness After Gaffe\n"
     ]
    }
   ],
   "source": [
    "for i in l:\n",
    "    print(i.text)\n",
    "    #printing out the text"
   ]
  }
 ],
 "metadata": {
  "kernelspec": {
   "display_name": "Python 3 (ipykernel)",
   "language": "python",
   "name": "python3"
  },
  "language_info": {
   "codemirror_mode": {
    "name": "ipython",
    "version": 3
   },
   "file_extension": ".py",
   "mimetype": "text/x-python",
   "name": "python",
   "nbconvert_exporter": "python",
   "pygments_lexer": "ipython3",
   "version": "3.11.4"
  }
 },
 "nbformat": 4,
 "nbformat_minor": 5
}
